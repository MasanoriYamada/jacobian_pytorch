{
 "cells": [
  {
   "cell_type": "code",
   "execution_count": 2,
   "metadata": {
    "ExecuteTime": {
     "end_time": "2020-04-20T09:53:01.789304Z",
     "start_time": "2020-04-20T09:53:01.428673Z"
    }
   },
   "outputs": [],
   "source": [
    "import torch\n",
    "from jacobian import jacobian"
   ]
  },
  {
   "cell_type": "code",
   "execution_count": 3,
   "metadata": {
    "ExecuteTime": {
     "end_time": "2020-04-20T09:53:01.977790Z",
     "start_time": "2020-04-20T09:53:01.973857Z"
    }
   },
   "outputs": [],
   "source": [
    "class CNNNet(torch.nn.Module):\n",
    "    def __init__(self):\n",
    "        super(CNNNet, self).__init__()\n",
    "        self.cnn = torch.nn.Conv2d(1, 3, 5)\n",
    "    \n",
    "    def forward(self, x):\n",
    "        print('x: {}'.format(x.shape))\n",
    "        x = torch.nn.functional.relu(self.cnn(x))\n",
    "        print('co: {}'.format(x.shape))\n",
    "        return x"
   ]
  },
  {
   "cell_type": "markdown",
   "metadata": {},
   "source": [
    "# jacobian\n",
    "\n",
    "- cnnnet: x(10,1,5,5) -> y(10,3,1,1)\n",
    "- dy/dx: jacobian(y, x) => (10, 3, 1, 1, 1, 5, 5)"
   ]
  },
  {
   "cell_type": "code",
   "execution_count": 6,
   "metadata": {
    "ExecuteTime": {
     "end_time": "2020-04-20T09:53:13.364538Z",
     "start_time": "2020-04-20T09:53:13.359949Z"
    },
    "scrolled": true
   },
   "outputs": [
    {
     "name": "stdout",
     "output_type": "stream",
     "text": [
      "x: torch.Size([10, 1, 5, 5])\n",
      "co: torch.Size([10, 3, 1, 1])\n"
     ]
    }
   ],
   "source": [
    "cnet = CNNNet()\n",
    "batch = 10\n",
    "x = torch.randn(batch, 1, 5, 5)  # x (10, 1,5,5)\n",
    "x.requires_grad = True\n",
    "y = cnet(x)  # y (10,3,1,1)"
   ]
  },
  {
   "cell_type": "markdown",
   "metadata": {
    "ExecuteTime": {
     "end_time": "2020-04-20T09:51:19.463280Z",
     "start_time": "2020-04-20T09:51:19.461035Z"
    }
   },
   "source": [
    "# calc jacobian"
   ]
  },
  {
   "cell_type": "code",
   "execution_count": 7,
   "metadata": {
    "ExecuteTime": {
     "end_time": "2020-04-20T09:53:15.225383Z",
     "start_time": "2020-04-20T09:53:15.219265Z"
    }
   },
   "outputs": [],
   "source": [
    "pred = jacobian(y, x, create_graph=True)"
   ]
  },
  {
   "cell_type": "markdown",
   "metadata": {},
   "source": [
    "# naive calc jacobian"
   ]
  },
  {
   "cell_type": "code",
   "execution_count": 8,
   "metadata": {
    "ExecuteTime": {
     "end_time": "2020-04-20T09:53:16.939008Z",
     "start_time": "2020-04-20T09:53:16.912896Z"
    }
   },
   "outputs": [],
   "source": [
    "y_ = y.reshape(batch, -1)\n",
    "total_y = y_.shape[1]\n",
    "grad_x = []\n",
    "for batch_y in y_:\n",
    "    for target in batch_y:\n",
    "        target.backward(retain_graph=True)\n",
    "        grad_x.append(x.grad.unsqueeze(dim=0).clone().numpy())\n",
    "        x.grad.zero_()\n",
    "grad_x = np.array(grad_x).reshape(*y.shape, *x.shape)\n",
    "true_val = np.einsum('ijklimno->ijklmno', grad_x)  # only cnn"
   ]
  },
  {
   "cell_type": "code",
   "execution_count": 9,
   "metadata": {
    "ExecuteTime": {
     "end_time": "2020-04-20T09:53:17.416575Z",
     "start_time": "2020-04-20T09:53:17.413685Z"
    }
   },
   "outputs": [],
   "source": [
    "assert (pred.detach().numpy() == true_val).all()"
   ]
  },
  {
   "cell_type": "code",
   "execution_count": null,
   "metadata": {},
   "outputs": [],
   "source": []
  }
 ],
 "metadata": {
  "hide_input": false,
  "kernelspec": {
   "display_name": "Python 3",
   "language": "python",
   "name": "python3"
  },
  "language_info": {
   "codemirror_mode": {
    "name": "ipython",
    "version": 3
   },
   "file_extension": ".py",
   "mimetype": "text/x-python",
   "name": "python",
   "nbconvert_exporter": "python",
   "pygments_lexer": "ipython3",
   "version": "3.7.4"
  },
  "toc": {
   "base_numbering": 1,
   "nav_menu": {},
   "number_sections": true,
   "sideBar": true,
   "skip_h1_title": false,
   "title_cell": "Table of Contents",
   "title_sidebar": "Contents",
   "toc_cell": false,
   "toc_position": {},
   "toc_section_display": true,
   "toc_window_display": false
  },
  "varInspector": {
   "cols": {
    "lenName": 16,
    "lenType": 16,
    "lenVar": 40
   },
   "kernels_config": {
    "python": {
     "delete_cmd_postfix": "",
     "delete_cmd_prefix": "del ",
     "library": "var_list.py",
     "varRefreshCmd": "print(var_dic_list())"
    },
    "r": {
     "delete_cmd_postfix": ") ",
     "delete_cmd_prefix": "rm(",
     "library": "var_list.r",
     "varRefreshCmd": "cat(var_dic_list()) "
    }
   },
   "types_to_exclude": [
    "module",
    "function",
    "builtin_function_or_method",
    "instance",
    "_Feature"
   ],
   "window_display": false
  }
 },
 "nbformat": 4,
 "nbformat_minor": 2
}
